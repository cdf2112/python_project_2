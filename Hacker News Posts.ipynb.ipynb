{
 "cells": [
  {
   "cell_type": "markdown",
   "metadata": {
    "collapsed": true
   },
   "source": [
    "# Analysis of Posts from Hacker News\n",
    "\n",
    "### A Data Science project with Python\n",
    "\n",
    "The popular website [Hacker News](https://news.ycombinator.com/) is a nice source of information and fun. If you click the link to this site, you will see it is composed of a great many numbered posts by contributors on disparate technology topics. You can view comments (if any) for each post, and select special posts that begin with \"Ask HN:\" (ask Hacker News) and \"Show HN:\" (show Hacker News). It doesn't take long to learn to navigate through all these posts and find interesting topics and questions.\n",
    "\n",
    "In our project we will analyze and otherwise have some fun with a data set taken from these posts on Hacker News. The data set samples a year of posts and a description of the data can be found [here](https://www.kaggle.com/hacker-news/hacker-news-posts). One thing to note in the link is that time stamps in the posts are Eastern Time. \n",
    "\n",
    "We will use Python programming language and concepts at an intermediate level to accomplish our mission. Roughly put, our mission is to analyze poularity of posts made on Hacker News during different times of the day. We will focus on analysis of string objects, and time and date objects in what follows.\n",
    "\n",
    "Let's open up this data set we will use for the project, and look at the header and first four rows."
   ]
  },
  {
   "cell_type": "code",
   "execution_count": 183,
   "metadata": {
    "collapsed": false
   },
   "outputs": [
    {
     "name": "stdout",
     "output_type": "stream",
     "text": [
      "['id', 'title', 'url', 'num_points', 'num_comments', 'author', 'created_at']\n",
      "\n",
      "['12224879', 'Interactive Dynamic Video', 'http://www.interactivedynamicvideo.com/', '386', '52', 'ne0phyte', '8/4/2016 11:52']\n",
      "\n",
      "['10975351', 'How to Use Open Source and Shut the Fuck Up at the Same Time', 'http://hueniverse.com/2016/01/26/how-to-use-open-source-and-shut-the-fuck-up-at-the-same-time/', '39', '10', 'josep2', '1/26/2016 19:30']\n",
      "\n",
      "['11964716', \"Florida DJs May Face Felony for April Fools' Water Joke\", 'http://www.thewire.com/entertainment/2013/04/florida-djs-april-fools-water-joke/63798/', '2', '1', 'vezycash', '6/23/2016 22:20']\n",
      "\n",
      "['11919867', 'Technology ventures: From Idea to Enterprise', 'https://www.amazon.com/Technology-Ventures-Enterprise-Thomas-Byers/dp/0073523429', '3', '1', 'hswarna', '6/17/2016 0:01']\n",
      "\n"
     ]
    }
   ],
   "source": [
    "from csv import reader\n",
    "opened_file = open(\"hacker_news.csv\") #this is our data set for the project\n",
    "read_file = reader(opened_file)\n",
    "hn = list(read_file)\n",
    "\n",
    "for row in hn[0:5]:\n",
    "    print(row)\n",
    "    print()"
   ]
  },
  {
   "cell_type": "markdown",
   "metadata": {},
   "source": [
    "Here is the meaning of the columns you see in the header row:\n",
    "\n",
    "column heading | meaning\n",
    "--- | --- \n",
    "id | the unique identifier from Hacker News for the post\n",
    "title | title of the post\n",
    "url | the URL the posts links to, if it has one\n",
    "num_points | the number of points the post got (upvotes minus downvotes)\n",
    "num_comments | the number of comments made on the post\n",
    "author | username of the person who made the post\n",
    "created_at | date and time the post was submitted \n",
    "\n"
   ]
  },
  {
   "cell_type": "markdown",
   "metadata": {},
   "source": [
    "In our project we will be interested mainly in posts of the variety \"Ask HN\" and \"Show HN\". Let's list just a few of these in rough fashion."
   ]
  },
  {
   "cell_type": "code",
   "execution_count": 184,
   "metadata": {
    "collapsed": false
   },
   "outputs": [
    {
     "name": "stdout",
     "output_type": "stream",
     "text": [
      "[['12296411', 'Ask HN: How to improve my personal website?', '', '2', '6', 'ahmedbaracat', '8/16/2016 9:55'], ['10610020', 'Ask HN: Am I the only one outraged by Twitter shutting down share counts?', '', '28', '29', 'tkfx', '11/22/2015 13:43']]\n",
      "...and 1,736 more rows like this\n",
      "\n",
      "[['10627194', 'Show HN: Wio Link  ESP8266 Based Web of Things Hardware Development Platform', 'https://iot.seeed.cc', '26', '22', 'kfihihc', '11/25/2015 14:03'], ['10646440', 'Show HN: Something pointless I made', 'http://dn.ht/picklecat/', '747', '102', 'dhotson', '11/29/2015 22:46']]\n",
      "...and 1,161 more rows like this\n"
     ]
    }
   ],
   "source": [
    "ask_hn = []\n",
    "show_hn = []\n",
    "\n",
    "for row in hn[1:]:\n",
    "    title = row[1]\n",
    "    \n",
    "    if \"Ask HN:\" in title:\n",
    "        ask_hn.append(row)\n",
    "    if \"Show HN:\" in title:\n",
    "        show_hn.append(row)\n",
    "        \n",
    "print(ask_hn[0:2])\n",
    "print(\"...and {:,} more rows like this\".format(len(ask_hn)))\n",
    "print()\n",
    "print(show_hn[0:2])\n",
    "print(\"...and {:,} more rows like this\".format(len(show_hn)))"
   ]
  },
  {
   "cell_type": "markdown",
   "metadata": {},
   "source": [
    "Turning to our main data set `hn`, we remove the header (shown and explained above), and work with the remaining rows. Let us also list the number of rows in this date set."
   ]
  },
  {
   "cell_type": "code",
   "execution_count": 185,
   "metadata": {
    "collapsed": false
   },
   "outputs": [
    {
     "name": "stdout",
     "output_type": "stream",
     "text": [
      "There are 20,100 rows\n"
     ]
    }
   ],
   "source": [
    "hn = hn[1:] #all rows except the header row\n",
    "n = len(hn)\n",
    "print(\"There are {:,} rows\".format(n))"
   ]
  },
  {
   "cell_type": "markdown",
   "metadata": {},
   "source": [
    "Now that we have a feel for the data, let's group it more carefully into the categories we want to study, making sure we don't lose anything due to upper and lower cases in the titles, etc. (eg. if a title begins with \"ask hn\" or \"Ask HN\" we put it into the list `ask_posts`, but if \"ask hn\" appears in the title but not at the beginning of the title, we don't want it in our `ask_posts` set)."
   ]
  },
  {
   "cell_type": "code",
   "execution_count": 186,
   "metadata": {
    "collapsed": false
   },
   "outputs": [
    {
     "name": "stdout",
     "output_type": "stream",
     "text": [
      "There are 1,744 posts in ask_posts\n",
      "There are 1,162 posts in show_posts\n",
      "There are 17,194 posts in other_posts\n"
     ]
    }
   ],
   "source": [
    "ask_posts = []\n",
    "show_posts = []\n",
    "other_posts = []\n",
    "\n",
    "for row in hn:\n",
    "    title = row[1]\n",
    "    title = title.lower() #get rid of all capitalizations\n",
    "    \n",
    "    if title.startswith(\"ask hn\"):\n",
    "        ask_posts.append(row)\n",
    "    elif title.startswith(\"show hn\"):\n",
    "        show_posts.append(row)\n",
    "    else:\n",
    "        other_posts.append(row)\n",
    "\n",
    "print(\"There are {:,} posts in ask_posts\".format(len(ask_posts)))\n",
    "print(\"There are {:,} posts in show_posts\".format(len(show_posts)))\n",
    "print(\"There are {:,} posts in other_posts\".format(len(other_posts)))"
   ]
  },
  {
   "cell_type": "markdown",
   "metadata": {},
   "source": [
    "First of all, let's see if ask posts or show posts receive more comments on average. Remember from the table above that the number of comments is in column 5 (corresponding to index 4)."
   ]
  },
  {
   "cell_type": "code",
   "execution_count": 187,
   "metadata": {
    "collapsed": false
   },
   "outputs": [
    {
     "name": "stdout",
     "output_type": "stream",
     "text": [
      "Ask posts get 14.04 comments on average\n",
      "Show posts get 10.32 comments on average\n"
     ]
    }
   ],
   "source": [
    "total_ask_comments = 0\n",
    "for row in ask_posts:\n",
    "    comments = int(row[4])\n",
    "    total_ask_comments += comments\n",
    "avg = total_ask_comments/len(ask_posts)\n",
    "print(\"Ask posts get {:,.2f} comments on average\".format(avg))\n",
    "\n",
    "total_show_comments = 0\n",
    "for row in show_posts:\n",
    "    comments = int(row[4])\n",
    "    total_show_comments += comments\n",
    "avg = total_show_comments/len(show_posts)\n",
    "print(\"Show posts get {:,.2f} comments on average\".format(avg))"
   ]
  },
  {
   "cell_type": "markdown",
   "metadata": {},
   "source": [
    "We see that the average \"Ask HN\" post receives about 40% more comments than the average \"Show HN\" post on Hacker News (14 vs. 10). Let's focus our remaining analysis on the \"Ask HN\" posts. In particular, let's see if ask posts created during certain times of the day are more likely to attract comments. We do this by computing the average number of posts made per \"Ask HN\" comment during each hour of the day. \n",
    "\n",
    "Recall that the seventh column (index 6) labeled `created at` contains the time stamp for each post. We work with Python datetime objects below to accomplish our goal."
   ]
  },
  {
   "cell_type": "code",
   "execution_count": 188,
   "metadata": {
    "collapsed": false
   },
   "outputs": [],
   "source": [
    "import datetime as dt #import Python's datetime module and abbreviate it\n",
    "result_list = []\n",
    "\n",
    "for row in ask_posts:\n",
    "    t = row[6] #raw time data, ex '6/23/2016 22:10'\n",
    "    n = int(row[4]) #number of comments\n",
    "    result_list.append([t,n])\n",
    "\n",
    "#create frequency tables\n",
    "counts_by_hour = {} \n",
    "comments_by_hour = {}\n",
    "\n",
    "for row in result_list:\n",
    "    #get the hour the comment was posted\n",
    "    t = dt.datetime.strptime(row[0], \"%m/%d/%Y %H:%M\")\n",
    "    hr = t.hour\n",
    "    \n",
    "    n = row[1]\n",
    "    \n",
    "    if hr in counts_by_hour:\n",
    "        counts_by_hour[hr] += 1\n",
    "        comments_by_hour[hr] += n\n",
    "    else:\n",
    "        counts_by_hour[hr] = 1\n",
    "        comments_by_hour[hr] = n"
   ]
  },
  {
   "cell_type": "markdown",
   "metadata": {},
   "source": [
    "Now to find the average number of comments per post during each hour:"
   ]
  },
  {
   "cell_type": "code",
   "execution_count": 189,
   "metadata": {
    "collapsed": false
   },
   "outputs": [
    {
     "name": "stdout",
     "output_type": "stream",
     "text": [
      "[[0, 8.127272727272727], [1, 11.383333333333333], [2, 23.810344827586206], [3, 7.796296296296297], [4, 7.170212765957447]]\n",
      "...etc.\n"
     ]
    }
   ],
   "source": [
    "avg_by_hour = []\n",
    "\n",
    "for hr in counts_by_hour:\n",
    "    avg = comments_by_hour[hr]/counts_by_hour[hr]\n",
    "    avg_by_hour.append([hr,avg])\n",
    "    \n",
    "print(avg_by_hour[0:5])\n",
    "print(\"...etc.\")"
   ]
  },
  {
   "cell_type": "markdown",
   "metadata": {},
   "source": [
    "Let's display the five hours with the highest number of comments per post in descending order: We swap the order of the columns in `avg_per_hour` and use the sorting function on this new list."
   ]
  },
  {
   "cell_type": "code",
   "execution_count": 190,
   "metadata": {
    "collapsed": false
   },
   "outputs": [
    {
     "name": "stdout",
     "output_type": "stream",
     "text": [
      "[[38.5948275862069, 15], [23.810344827586206, 2], [21.525, 20], [16.796296296296298, 16], [16.009174311926607, 21]]\n",
      "...etc.\n",
      "\n",
      "Top 5 Hours for Ask Posts Comments:\n",
      "\n",
      "15:00: 38.59 average comments per post\n",
      "02:00: 23.81 average comments per post\n",
      "20:00: 21.52 average comments per post\n",
      "16:00: 16.80 average comments per post\n",
      "21:00: 16.01 average comments per post\n"
     ]
    }
   ],
   "source": [
    "swap_avg_by_hour = []\n",
    "#swap columns in the lists\n",
    "for row in avg_by_hour:\n",
    "    swap_avg_by_hour.append([row[1], row[0]])\n",
    "\n",
    "#sort in descending order, highest to lowest\n",
    "sorted_swap = sorted(swap_avg_by_hour, reverse = True)\n",
    "\n",
    "print(sorted_swap[0:5])\n",
    "print(\"...etc.\")\n",
    "print()\n",
    "#print this out in readable form\n",
    "print(\"Top 5 Hours for Ask Posts Comments:\")\n",
    "print()\n",
    "\n",
    "for row in sorted_swap[0:5]:\n",
    "    hr = dt.time(row[1], 0, 0) #time object\n",
    "    hr = hr.strftime(\"%H:%M\") #format time as eg. 14:00\n",
    "    str = \"{}: {:.2f} average comments per post\" \n",
    "    avg = row[0]\n",
    "    print(str.format(hr, avg))"
   ]
  },
  {
   "cell_type": "markdown",
   "metadata": {},
   "source": [
    "We noted earlier that these times are Eastern Time. What about someone in Central Time (eg. the author of this report) who wants to make posts on Hacker News during these peak times? We have to subtract an hour from each of these times; this is done in Python with the timedelta function."
   ]
  },
  {
   "cell_type": "code",
   "execution_count": 191,
   "metadata": {
    "collapsed": false,
    "scrolled": true
   },
   "outputs": [
    {
     "name": "stdout",
     "output_type": "stream",
     "text": [
      "Top 5 Hours for Ask Posts Comments in Central Time:\n",
      "\n",
      "14:00: 38.59 average comments per post\n",
      "01:00: 23.81 average comments per post\n",
      "19:00: 21.52 average comments per post\n",
      "15:00: 16.80 average comments per post\n",
      "20:00: 16.01 average comments per post\n"
     ]
    }
   ],
   "source": [
    "print(\"Top 5 Hours for Ask Posts Comments in Central Time:\")\n",
    "print()\n",
    "for row in sorted_swap[0:5]:\n",
    "    hr = dt.datetime(1,1,1,row[1],0,0) #use dummy value for date\n",
    "    hr = hr - dt.timedelta(hours = 1) #now subtract an hour\n",
    "    hr = hr.strftime(\"%H:%M\") #extract the hour from datetime object\n",
    "    str = \"{}: {:.2f} average comments per post\"\n",
    "    avg = row[0]\n",
    "    print(str.format(hr, avg))"
   ]
  },
  {
   "cell_type": "markdown",
   "metadata": {},
   "source": [
    "In conclusion, if I wanted to submit \"Ask HN\" posts to Hacker News and receive lots of comments, the best time of day for me would appear to be during the 2:00 p.m. (14:00) hour, followed in succession by the 1:00 a.m., 7:00 p.m., 3:00 p.m., and 8:00 p.m. hours. \n",
    "\n",
    "**Broadly put, the most best times to get comments on Ask Posts are mid-afternoon, late evening, and the middle of the night.**\n",
    "\n",
    "This project could be extended by \n",
    "\n",
    "    1. Comparing the popularity of \"Ask HN\" and \"Show HN\" posts\n",
    "    2. Seeing if posts made at certain times receive more points  \n",
    "       on average\n",
    "    \n",
    "The datasets created above harbor the answers, and analysis would proceed in similar fashion. "
   ]
  }
 ],
 "metadata": {
  "kernelspec": {
   "display_name": "Python 3",
   "language": "python",
   "name": "python3"
  },
  "language_info": {
   "codemirror_mode": {
    "name": "ipython",
    "version": 3
   },
   "file_extension": ".py",
   "mimetype": "text/x-python",
   "name": "python",
   "nbconvert_exporter": "python",
   "pygments_lexer": "ipython3",
   "version": "3.4.3"
  }
 },
 "nbformat": 4,
 "nbformat_minor": 2
}
